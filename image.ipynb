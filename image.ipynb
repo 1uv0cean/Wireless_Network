{
 "cells": [
  {
   "cell_type": "code",
   "execution_count": null,
   "metadata": {},
   "outputs": [],
   "source": [
    "from tensorflow.keras.applications.mobilenet_v2 import preprocess_input\n",
    "from tensorflow.keras.models import load_model\n",
    "import numpy as np\n",
    "import cv2\n",
    "import matplotlib.pyplot as plt\n",
    "import os\n",
    "\n",
    "plt.style.use('dark_background')"
   ]
  },
  {
   "cell_type": "markdown",
   "metadata": {},
   "source": [
    "# Load Model"
   ]
  },
  {
   "cell_type": "code",
   "execution_count": null,
   "metadata": {},
   "outputs": [],
   "source": [
    "facenet = cv2.dnn.readNet('models/deploy.prototxt', 'models/res10_300x300_ssd_iter_140000.caffemodel')\n",
    "model = load_model('models/mask_detector.model')"
   ]
  },
  {
   "cell_type": "markdown",
   "metadata": {},
   "source": [
    "# Load Image"
   ]
  },
  {
   "cell_type": "code",
   "execution_count": null,
   "metadata": {},
   "outputs": [],
   "source": [
    "img = cv2.imread('imgs/02.jpg')\n",
    "h, w = img.shape[:2]\n",
    "\n",
    "plt.figure(figsize=(16, 10))\n",
    "plt.imshow(img[:, :, ::-1])"
   ]
  },
  {
   "cell_type": "markdown",
   "metadata": {},
   "source": [
    "# Preprocess Image for Face Detection"
   ]
  },
  {
   "cell_type": "markdown",
   "metadata": {},
   "source": [
    "blob = cv2.dnn.blobFromImage(img, scalefactor=1., size=(300, 300), mean=(104., 177., 123.))\n",
    "facenet.setInput(blob)\n",
    "dets = facenet.forward()"
   ]
  },
  {
   "cell_type": "markdown",
   "metadata": {},
   "source": [
    "# Detect Faces"
   ]
  },
  {
   "cell_type": "code",
   "execution_count": null,
   "metadata": {},
   "outputs": [],
   "source": [
    "faces = []\n",
    "\n",
    "for i in range(dets.shape[2]):\n",
    "    confidence = dets[0, 0, i, 2]\n",
    "    if confidence < 0.5:\n",
    "        continue\n",
    "\n",
    "    x1 = int(dets[0, 0, i, 3] * w)\n",
    "    y1 = int(dets[0, 0, i, 4] * h)\n",
    "    x2 = int(dets[0, 0, i, 5] * w)\n",
    "    y2 = int(dets[0, 0, i, 6] * h)\n",
    "    \n",
    "    face = img[y1:y2, x1:x2]\n",
    "    faces.append(face)\n",
    "\n",
    "plt.figure(figsize=(16, 5))\n",
    "\n",
    "for i, face in enumerate(faces):\n",
    "    plt.subplot(1, len(faces), i+1)\n",
    "    plt.imshow(face[:, :, ::-1])"
   ]
  },
  {
   "cell_type": "markdown",
   "metadata": {},
   "source": [
    "Detect Masks from Faces"
   ]
  },
  {
   "cell_type": "code",
   "execution_count": null,
   "metadata": {},
   "outputs": [],
   "source": [
    "plt.figure(figsize=(16, 5))\n",
    "\n",
    "for i, face in enumerate(faces):\n",
    "    face_input = cv2.resize(face, dsize=(224, 224))\n",
    "    face_input = cv2.cvtColor(face_input, cv2.COLOR_BGR2RGB)\n",
    "    face_input = preprocess_input(face_input)\n",
    "    face_input = np.expand_dims(face_input, axis=0)\n",
    "    \n",
    "    mask, nomask = model.predict(face_input).squeeze()\n",
    "\n",
    "    plt.subplot(1, len(faces), i+1)\n",
    "    plt.imshow(face[:, :, ::-1])\n",
    "    plt.title('%.2f%%' % (mask * 100))"
   ]
  }
 ],
 "metadata": {
  "language_info": {
   "name": "python"
  },
  "orig_nbformat": 4
 },
 "nbformat": 4,
 "nbformat_minor": 2
}
